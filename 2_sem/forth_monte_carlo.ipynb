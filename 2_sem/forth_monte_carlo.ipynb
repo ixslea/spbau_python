{
 "cells": [
  {
   "cell_type": "markdown",
   "metadata": {},
   "source": [
    "# Посчитаем интеграл методом Монте-Карло!"
   ]
  },
  {
   "cell_type": "markdown",
   "metadata": {},
   "source": [
    "$$\n",
    "  \\int_{-1}^2 \\frac{1 + x^2}{1 + x^4}\\,dx \n",
    "$$\n",
    "\n",
    "@Кудрявцев Л. Д., Кутасов А. Д., Чехлов В. И., Шабунин М. И. (2003) // Кудрявцев Л. Д. (Ред.). Сборник задач по математическому анализу. Том 2. Интегралы.Ряды: Учеб. пособие. М.: ФИЗМАТЛИТ. С. 98."
   ]
  },
  {
   "cell_type": "code",
   "execution_count": 72,
   "metadata": {},
   "outputs": [
    {
     "name": "stdout",
     "output_type": "stream",
     "text": [
      "Вычисленное значение интеграла с помощью метода Монте-Карло 2.8027885782864748.\n"
     ]
    }
   ],
   "source": [
    "\n",
    "\"\"\"Импортируем необходимые модули\"\"\"\n",
    "import random \n",
    "from math import log\n",
    "import numpy as np\n",
    "\n",
    "\"\"\"Задаём пределы интегрирования\"\"\" \n",
    "a = -1\n",
    "b = 2\n",
    "\n",
    "\"\"\"Кол-во проходов\"\"\"\n",
    "N = 10000 \n",
    "\n",
    "  \n",
    "\"\"\"Переменная, в которой будет храниться сумма функций при разных x\"\"\"\n",
    "integral = 0.0\n",
    "\n",
    "  \n",
    "\"\"\"Функция, считающая значение при заданном x\"\"\"\n",
    "def f(x): \n",
    "    return ((1+x**2)/(1+x**4))\n",
    "\n",
    "  \n",
    "\n",
    "\"\"\"Итерирование и суммирование результатов при разных х\"\"\"\n",
    "for i in range(N):\n",
    "    i = random.uniform(a, b) \n",
    "    integral += f(i) \n",
    "\n",
    "  \n",
    "\n",
    "\"\"\"Подсчет ответа\"\"\"\n",
    "answer = (b-a)/float(N)*integral \n",
    "\n",
    " \n",
    "\"\"\"Вывод ответа\"\"\"\n",
    "print(\"Вычисленное значение интеграла с помощью метода Монте-Карло {}.\".format(answer)) \n",
    " "
   ]
  },
  {
   "cell_type": "markdown",
   "metadata": {},
   "source": [
    "## Попробуем решить сами и сравнить ответ!"
   ]
  },
  {
   "cell_type": "markdown",
   "metadata": {},
   "source": [
    "$$\n",
    "  \\int_{-1}^2 \\frac{1 + x^2}{1 + x^4}\\,dx \\tag{1}\n",
    "$$"
   ]
  },
  {
   "cell_type": "markdown",
   "metadata": {},
   "source": [
    "Сделав при х ≠ 0 замену переменного t в соответствующем неопределенном интеграле:"
   ]
  },
  {
   "cell_type": "markdown",
   "metadata": {},
   "source": [
    "$$t = x - \\frac{1}{x}\\$$"
   ]
  },
  {
   "cell_type": "markdown",
   "metadata": {},
   "source": [
    "Получим:"
   ]
  },
  {
   "cell_type": "markdown",
   "metadata": {},
   "source": [
    "$$\n",
    "  \\int \\frac{1 + x^2}{1 + x^4}\\,dx = \\int \\frac{d(x - 1/x)}{2 + (x - 1/x)^2}\\ = \\frac {1}{\\sqrt{2}} \\arctg \\frac{x^2 - 1}{x\\sqrt{2}} + C \\tag{2}\n",
    "$$"
   ]
  },
  {
   "cell_type": "markdown",
   "metadata": {},
   "source": [
    "и, следовательно,"
   ]
  },
  {
   "cell_type": "markdown",
   "metadata": {},
   "source": [
    "$$\n",
    "    (\\frac {1}{\\sqrt{2}} \\arctg \\frac{x^2 - 1}{x\\sqrt{2}})^{'} = \\frac{1 + x^2}{1 + x^4}\\ , x \\neq 0\\tag{3}\n",
    "$$"
   ]
  },
  {
   "cell_type": "markdown",
   "metadata": {},
   "source": [
    "Поскольку"
   ]
  },
  {
   "cell_type": "markdown",
   "metadata": {},
   "source": [
    "$$\n",
    "\\lim _{x \\to +0 }\\frac {1}{\\sqrt{2}} \\arctg \\frac{x^2 - 1}{x\\sqrt{2}}= \\frac {-\\pi} {2\\sqrt{2}}\\  ,  \\lim _{x \\to -0 }\\frac {1}{\\sqrt{2}} \\arctg \\frac{x^2 - 1}{x\\sqrt{2}}= \\frac {\\pi} {2\\sqrt{2}}\\ , \\tag{4}\n",
    "$$"
   ]
  },
  {
   "cell_type": "markdown",
   "metadata": {},
   "source": [
    "то функция"
   ]
  },
  {
   "cell_type": "markdown",
   "metadata": {},
   "source": [
    "$$\n",
    "\\begin{equation*}\n",
    "{F(x)} = \n",
    " \\begin{cases}\n",
    "   \\frac {1}{\\sqrt{2}} \\arctg \\frac{x^2 - 1}{x\\sqrt{2}} + \\frac {\\pi} {2\\sqrt{2}}\\, \\text{если } x > 0\\\\\n",
    "   0, \\text{если } x = 0\\\\\n",
    "   \\frac {1}{\\sqrt{2}} \\arctg \\frac{x^2 - 1}{x\\sqrt{2}} - \\frac {\\pi} {2\\sqrt{2}}\\, \\text{если } x < 0\\\\\n",
    " \\end{cases}\n",
    "\\end{equation*} \\tag{5}\n",
    "$$"
   ]
  },
  {
   "cell_type": "markdown",
   "metadata": {},
   "source": [
    "будет непрерывной на всей числовой оси, а так как согласно (3)"
   ]
  },
  {
   "cell_type": "markdown",
   "metadata": {},
   "source": [
    "$$\n",
    "F'(x) = \\frac{1 + x^2}{1 + x^4}\\ , x \\neq 0 \\tag{6}\n",
    "$$"
   ]
  },
  {
   "cell_type": "markdown",
   "metadata": {},
   "source": [
    "то в силу непрерывности функции $$(1 + x^2)(1 + x^4) $$ равенство (6) верно и при х = 0. Таким образом, функция (5) является первообразной для подынтегральной функции интеграла (1). Поэтому\n"
   ]
  },
  {
   "cell_type": "markdown",
   "metadata": {},
   "source": [
    "$$\n",
    "  \\int_{-1}^2 \\frac{1 + x^2}{1 + x^4}\\,dx = F(2) - F(-1) =  \\frac {1}{\\sqrt{2}} (\\arctg{( \\frac{3\\sqrt{2}}{4}) + \\pi)}\n",
    "$$"
   ]
  },
  {
   "cell_type": "markdown",
   "metadata": {},
   "source": [
    "## Сравним полученные значения:"
   ]
  },
  {
   "cell_type": "code",
   "execution_count": 77,
   "metadata": {},
   "outputs": [
    {
     "name": "stdout",
     "output_type": "stream",
     "text": [
      "Вычисленное значение интеграла с помощью метода Монте-Карло 2.7854754763348493.\n",
      "Вычисленное значение интеграла вручную 2.797611107138433.\n"
     ]
    }
   ],
   "source": [
    "from math import atan, sqrt, pi\n",
    "\n",
    "result = (1/sqrt(2)) * (atan(((3*sqrt(2))/4)) + pi)\n",
    "\n",
    "%run monte_carlo.py\n",
    "print(\"Вычисленное значение интеграла вручную {}.\".format(result))"
   ]
  },
  {
   "cell_type": "markdown",
   "metadata": {},
   "source": [
    "# Ответы приблизительно равны, а, значит, метод и алгоритм работают верно!"
   ]
  }
 ],
 "metadata": {
  "kernelspec": {
   "display_name": "Python 3.11.0 64-bit",
   "language": "python",
   "name": "python3"
  },
  "language_info": {
   "codemirror_mode": {
    "name": "ipython",
    "version": 3
   },
   "file_extension": ".py",
   "mimetype": "text/x-python",
   "name": "python",
   "nbconvert_exporter": "python",
   "pygments_lexer": "ipython3",
   "version": "3.11.0"
  },
  "orig_nbformat": 4,
  "vscode": {
   "interpreter": {
    "hash": "5a33033e7b735160d442250d77b62d6d7a05467ce9a1ec3b9784d4e2b8c94143"
   }
  }
 },
 "nbformat": 4,
 "nbformat_minor": 2
}
