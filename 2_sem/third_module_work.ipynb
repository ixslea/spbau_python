{
 "cells": [
  {
   "cell_type": "markdown",
   "metadata": {},
   "source": [
    "# Задание 3. Создание модуля или пакета из одной из своих уже решённых задач"
   ]
  },
  {
   "cell_type": "markdown",
   "metadata": {},
   "source": [
    "Создадим модуль из алгоритма Рабина-Карпа:"
   ]
  },
  {
   "cell_type": "code",
   "execution_count": null,
   "metadata": {},
   "outputs": [],
   "source": [
    "def rabin_karp(text, pattern):\n",
    "    \"\"\"\n",
    "    Поиск всех вхождений алгоритмом Рабина-Карпа\n",
    "    Параметры:\n",
    "    ----------\n",
    "        text: str\n",
    "            текст\n",
    "        pattern: str\n",
    "            образец\n",
    "    Возвращаемое значение\n",
    "    ---------------------\n",
    "        список позиций в тексте, с которых начинаются вхождения образца\n",
    "    \"\"\"\n",
    "    d = 256\n",
    "    mod_num = 11\n",
    "    text_len = len(text)\n",
    "    pattern_len = len(pattern)\n",
    "    h = pow(d, pattern_len - 1) % mod_num\n",
    "    multiplier_pattern = 0\n",
    "    multiplier_text = 0\n",
    "    result = []\n",
    "    if text_len == 0:\n",
    "        return result\n",
    "\n",
    "    if pattern_len == 0:\n",
    "        return list(range(text_len))\n",
    "\n",
    "    for i in range(pattern_len):\n",
    "        multiplier_pattern = (d * multiplier_pattern + ord(pattern[i])) % mod_num\n",
    "        multiplier_text = (d * multiplier_text + ord(text[i])) % mod_num\n",
    "\n",
    "    for s in range(text_len - pattern_len + 1):\n",
    "        if multiplier_pattern == multiplier_text:\n",
    "            match = True\n",
    "            for i in range(pattern_len):\n",
    "                if pattern[i] != text[s+i]:\n",
    "                    match = False\n",
    "                    break\n",
    "            if match:\n",
    "                result = result + [s]\n",
    "\n",
    "        if s < text_len - pattern_len:\n",
    "            multiplier_text = (multiplier_text - h * ord(text[s])) % mod_num\n",
    "            multiplier_text = (multiplier_text * d + ord(text[s + pattern_len])) % mod_num\n",
    "            multiplier_text = (multiplier_text + mod_num) % mod_num\n",
    "    return result"
   ]
  },
  {
   "cell_type": "markdown",
   "metadata": {},
   "source": [
    "## Установим полученный модуль:"
   ]
  },
  {
   "cell_type": "code",
   "execution_count": null,
   "metadata": {
    "vscode": {
     "languageId": "shellscript"
    }
   },
   "outputs": [],
   "source": [
    "pip install ixi_algs"
   ]
  },
  {
   "cell_type": "markdown",
   "metadata": {},
   "source": [
    "## Проверим его работоспособность:"
   ]
  },
  {
   "cell_type": "code",
   "execution_count": 1,
   "metadata": {},
   "outputs": [
    {
     "name": "stdout",
     "output_type": "stream",
     "text": [
      "[0, 2, 7, 19, 21]\n"
     ]
    }
   ],
   "source": [
    "from ixi_algs import rabin_karp\n",
    "\n",
    "print(rabin_karp.rabin_karp('ahahahhahahhahhhahhahahah', 'ahah'))"
   ]
  },
  {
   "cell_type": "markdown",
   "metadata": {},
   "source": [
    "# И вот! Результат правильный и модуль работает!\n",
    "\n",
    "*Ссылка на репозиторий модуля: https://github.com/ixslea/ixi_algs/tree/main/ixi_algs* "
   ]
  }
 ],
 "metadata": {
  "kernelspec": {
   "display_name": "Python 3.10.10 32-bit",
   "language": "python",
   "name": "python3"
  },
  "language_info": {
   "codemirror_mode": {
    "name": "ipython",
    "version": 3
   },
   "file_extension": ".py",
   "mimetype": "text/x-python",
   "name": "python",
   "nbconvert_exporter": "python",
   "pygments_lexer": "ipython3",
   "version": "3.10.10"
  },
  "orig_nbformat": 4,
  "vscode": {
   "interpreter": {
    "hash": "7aae16bfb68f185c53a24d7ded146d021c0203b81485cab0b7f0d789935411b7"
   }
  }
 },
 "nbformat": 4,
 "nbformat_minor": 2
}
