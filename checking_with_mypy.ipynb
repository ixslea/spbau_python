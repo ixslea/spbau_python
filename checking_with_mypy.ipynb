{
 "cells": [
  {
   "cell_type": "markdown",
   "metadata": {},
   "source": [
    "# Задание 14: добавить аннотации в какую-нибудь из своих программ и проверить при помощи MyPy. Попробовать внести в программу ошибку и убедиться в том, что MyPy на это отреагировал.\n"
   ]
  },
  {
   "cell_type": "markdown",
   "metadata": {},
   "source": [
    "## Используем алгоритм проверки чисел на простоту из 9 задания. Добавим к нему аннотации и проверим с помощью MyPy:"
   ]
  },
  {
   "cell_type": "code",
   "execution_count": 6,
   "metadata": {},
   "outputs": [
    {
     "name": "stdout",
     "output_type": "stream",
     "text": [
      "Проверка числа 5 на простоту: True\n",
      "Success: no issues found in 1 source file\n",
      "Type checking successful\n"
     ]
    }
   ],
   "source": [
    "def is_prime_or_pseudo_prime(num: int) -> bool:\n",
    "    \"\"\"Проверка чисел на простоту\"\"\"\n",
    "    k = num - 1\n",
    "    for test in range(1, k):\n",
    "        if ((test ** (num - 1)) % num) != 1:\n",
    "            return False\n",
    "    return True\n",
    "\n",
    "\n",
    "qu_num = int(input(\"Введите число, чтобы проверить, простое оно или составное \"))\n",
    "print(\"Проверка числа\", qu_num, \"на простоту:\", is_prime_or_pseudo_prime(qu_num))\n",
    "\n",
    "%mypy"
   ]
  },
  {
   "cell_type": "markdown",
   "metadata": {},
   "source": [
    "## В итоге MyPy не нашел ошибок.\n",
    "## Внесём ошибку и проверим, среагирует ли на это MyPy:"
   ]
  },
  {
   "cell_type": "code",
   "execution_count": 8,
   "metadata": {},
   "outputs": [
    {
     "name": "stdout",
     "output_type": "stream",
     "text": [
      "Проверка числа 6 на простоту: False\n",
      "    print(\"Проверка числа\", qu_num, \"на простоту:\", is\n",
      "error: Argument 1 to \"is_prime_or_pseudo_prime\" has incompatible type \"int\"; expected \"bool\"  [arg-type]\n",
      "Found 1 error in 1 file (checked 1 source file)\n"
     ]
    },
    {
     "name": "stderr",
     "output_type": "stream",
     "text": [
      "Type checking failed\n"
     ]
    }
   ],
   "source": [
    "def is_prime_or_pseudo_prime(num: bool) -> bool:\n",
    "    \"\"\"Проверка чисел на простоту\"\"\"\n",
    "    k = num - 1\n",
    "    for test in range(1, k):\n",
    "        if ((test ** (num - 1)) % num) != 1:\n",
    "            return False\n",
    "    return True\n",
    "\n",
    "\n",
    "qu_num = int(input(\"Введите число, чтобы проверить, простое оно или составное \"))\n",
    "print(\"Проверка числа\", qu_num, \"на простоту:\", is_prime_or_pseudo_prime(qu_num))\n",
    "\n",
    "%mypy"
   ]
  },
  {
   "cell_type": "markdown",
   "metadata": {},
   "source": [
    "## В итоге MyPy реагирует! "
   ]
  },
  {
   "cell_type": "markdown",
   "metadata": {},
   "source": [
    "## Сделаем ещё одну проверку:"
   ]
  },
  {
   "cell_type": "code",
   "execution_count": 9,
   "metadata": {},
   "outputs": [
    {
     "name": "stdout",
     "output_type": "stream",
     "text": [
      "Проверка числа 5 на простоту: True\n",
      "    print(\"Проверка числа\", qu_num, \"на простоту:\", is\n",
      "error: Argument 1 to \"is_prime_or_pseudo_prime\" has incompatible type \"int\"; expected \"bool\"  [arg-type]\n",
      "Found 1 error in 1 file (checked 1 source file)\n"
     ]
    },
    {
     "name": "stderr",
     "output_type": "stream",
     "text": [
      "Type checking failed\n"
     ]
    }
   ],
   "source": [
    "def is_prime_or_pseudo_prime(num: int) -> None:\n",
    "    \"\"\"Проверка чисел на простоту\"\"\"\n",
    "    k = num - 1\n",
    "    for test in range(1, k):\n",
    "        if ((test ** (num - 1)) % num) != 1:\n",
    "            return False\n",
    "    return True\n",
    "\n",
    "\n",
    "qu_num = int(input(\"Введите число, чтобы проверить, простое оно или составное \"))\n",
    "print(\"Проверка числа\", qu_num, \"на простоту:\", is_prime_or_pseudo_prime(qu_num))\n",
    "\n",
    "%mypy\n"
   ]
  },
  {
   "cell_type": "markdown",
   "metadata": {},
   "source": [
    "## MyPy также реагирует!"
   ]
  }
 ],
 "metadata": {
  "kernelspec": {
   "display_name": "Python 3.11.0 64-bit",
   "language": "python",
   "name": "python3"
  },
  "language_info": {
   "codemirror_mode": {
    "name": "ipython",
    "version": 3
   },
   "file_extension": ".py",
   "mimetype": "text/x-python",
   "name": "python",
   "nbconvert_exporter": "python",
   "pygments_lexer": "ipython3",
   "version": "3.11.0"
  },
  "orig_nbformat": 4,
  "vscode": {
   "interpreter": {
    "hash": "5a33033e7b735160d442250d77b62d6d7a05467ce9a1ec3b9784d4e2b8c94143"
   }
  }
 },
 "nbformat": 4,
 "nbformat_minor": 2
}
